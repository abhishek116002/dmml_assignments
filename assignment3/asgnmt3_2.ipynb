{
  "cells": [
    {
      "cell_type": "markdown",
      "metadata": {
        "id": "view-in-github",
        "colab_type": "text"
      },
      "source": [
        "<a href=\"https://colab.research.google.com/github/abhishek116002/dmml_assignments/blob/main/assignment3/asgnmt3_2.ipynb\" target=\"_parent\"><img src=\"https://colab.research.google.com/assets/colab-badge.svg\" alt=\"Open In Colab\"/></a>"
      ]
    },
    {
      "cell_type": "code",
      "execution_count": 1,
      "metadata": {
        "id": "mMYXp2ef4PsS"
      },
      "outputs": [],
      "source": [
        "import sys\n",
        "from packaging import version\n",
        "import pandas as pd\n",
        "import sklearn\n",
        "import tensorflow as tf\n",
        "from sklearn.cluster import KMeans\n",
        "from sklearn.decomposition import PCA\n",
        "from sklearn.linear_model import LogisticRegression\n",
        "import numpy as np\n",
        "import matplotlib.pyplot as plt\n",
        "from sklearn.metrics import accuracy_score\n",
        "\n",
        "assert sys.version_info >= (3, 7)\n",
        "assert version.parse(sklearn.__version__) >= version.parse(\"1.0.1\")\n",
        "assert version.parse(tf.__version__) >= version.parse(\"2.8.0\")"
      ]
    },
    {
      "cell_type": "code",
      "execution_count": 2,
      "metadata": {
        "id": "8LFLwTk_3kQg"
      },
      "outputs": [],
      "source": [
        "plt.rc('font', size=14)\n",
        "plt.rc('axes', labelsize=14, titlesize=14)\n",
        "plt.rc('legend', fontsize=14)\n",
        "plt.rc('xtick', labelsize=10)\n",
        "plt.rc('ytick', labelsize=10)"
      ]
    },
    {
      "cell_type": "code",
      "execution_count": 3,
      "metadata": {
        "id": "Hkfp2i_I4RiT"
      },
      "outputs": [],
      "source": [
        "# File path\n",
        "path = 'https://github.com/abhishek116002/dmml_assignments/raw/main/assignment3/overhead_mnist_data/'\n",
        "path_tr = path + 'training/'\n",
        "\n",
        "# Save files as dataframes\n",
        "X_train_full = pd.read_csv(path + 'train.csv')\n",
        "X_test = pd.read_csv(path + 'test.csv')\n",
        "\n",
        "classes = pd.read_csv(path + 'classes.csv')\n",
        "\n"
      ]
    },
    {
      "cell_type": "code",
      "execution_count": 4,
      "metadata": {
        "id": "uOJIZCLo4Rol"
      },
      "outputs": [],
      "source": [
        "\n",
        "X_train= X_train_full[:-5000]\n",
        "X_valid= X_train_full[-5000:]"
      ]
    },
    {
      "cell_type": "code",
      "execution_count": 4,
      "metadata": {
        "id": "NCClUR3rmIlr"
      },
      "outputs": [],
      "source": []
    },
    {
      "cell_type": "code",
      "execution_count": 5,
      "metadata": {
        "colab": {
          "base_uri": "https://localhost:8080/"
        },
        "id": "DMSv8Nrc4Rtt",
        "outputId": "c4231b1a-e680-4670-f4a9-dcf8351c4e76"
      },
      "outputs": [
        {
          "output_type": "execute_result",
          "data": {
            "text/plain": [
              "((63161, 785), (8529, 785), (5000, 785))"
            ]
          },
          "metadata": {},
          "execution_count": 5
        }
      ],
      "source": [
        "X_train.shape, X_test.shape, X_valid.shape"
      ]
    },
    {
      "cell_type": "code",
      "execution_count": 6,
      "metadata": {
        "id": "a-5RFCaR4R9V"
      },
      "outputs": [],
      "source": [
        "X_train_flat = X_train.dropna().drop('label', axis = 1)\n",
        "y_train = X_train.dropna()[['label']].values.ravel()\n",
        "\n",
        "X_test_flat = X_test.dropna().drop('label', axis = 1)\n",
        "y_test = X_test.dropna()[['label']].values.ravel()\n",
        "\n",
        "X_valid_flat = X_valid.dropna().drop('label', axis = 1)\n",
        "y_valid = X_valid.dropna()[['label']].values.ravel()"
      ]
    },
    {
      "cell_type": "code",
      "execution_count": 7,
      "metadata": {
        "id": "F_YCsXi54Ry-"
      },
      "outputs": [],
      "source": [
        "X_train_flat, X_valid_flat, X_test_flat = X_train_flat / 255., X_valid_flat / 255., X_test_flat / 255."
      ]
    },
    {
      "cell_type": "code",
      "execution_count": 8,
      "metadata": {
        "colab": {
          "base_uri": "https://localhost:8080/"
        },
        "id": "9ev-cigC4SDY",
        "outputId": "0a313276-984d-4c11-ea35-0da0c6b69871"
      },
      "outputs": [
        {
          "output_type": "execute_result",
          "data": {
            "text/plain": [
              "((63153, 784), (63153,), (8520, 784), (8520,), (4999, 784), (4999,))"
            ]
          },
          "metadata": {},
          "execution_count": 8
        }
      ],
      "source": [
        "X_train_flat.shape, y_train.shape, X_test_flat.shape, y_test.shape, X_valid_flat.shape, y_valid.shape"
      ]
    },
    {
      "cell_type": "code",
      "execution_count": 8,
      "metadata": {
        "id": "KyXGKZufouye"
      },
      "outputs": [],
      "source": []
    },
    {
      "cell_type": "code",
      "execution_count": 8,
      "metadata": {
        "id": "7_YaX_ZYou-h"
      },
      "outputs": [],
      "source": []
    },
    {
      "cell_type": "code",
      "execution_count": 9,
      "metadata": {
        "colab": {
          "base_uri": "https://localhost:8080/",
          "height": 708
        },
        "id": "SkxjT5ki4SH0",
        "outputId": "81913616-124b-46c3-cfe8-f8a3bc6220a0"
      },
      "outputs": [
        {
          "output_type": "stream",
          "name": "stdout",
          "text": [
            "0 0.99 0.46489297859571915 (63153, 608)\n",
            "1 0.97 0.4512902580516103 (63153, 419)\n",
            "2 0.95 0.4482896579315863 (63153, 313)\n",
            "3 0.93 0.4472894578915783 (63153, 240)\n",
            "4 0.91 0.4404880976195239 (63153, 186)\n",
            "5 0.89 0.4342868573714743 (63153, 146)\n",
            "6 0.87 0.4280856171234247 (63153, 115)\n",
            "7 0.85 0.42388477695539106 (63153, 92)\n",
            "8 0.83 0.4224844968993799 (63153, 74)\n",
            "9 0.81 0.4206841368273655 (63153, 60)\n",
            "10 0.79 0.41268253650730147 (63153, 48)\n",
            "11 0.77 0.4006801360272054 (63153, 39)\n",
            "12 0.75 0.39347869573914784 (63153, 32)\n",
            "13 0.73 0.36667333466693336 (63153, 26)\n",
            "14 0.71 0.3660732146429286 (63153, 21)\n"
          ]
        },
        {
          "output_type": "execute_result",
          "data": {
            "text/plain": [
              "[<matplotlib.lines.Line2D at 0x7f679facf940>]"
            ]
          },
          "metadata": {},
          "execution_count": 9
        },
        {
          "output_type": "display_data",
          "data": {
            "text/plain": [
              "<Figure size 640x480 with 1 Axes>"
            ],
            "image/png": "[encoded data removed]"
          },
          "metadata": {}
        }
      ],
      "source": [
        "params = np.array(range(99, 70, -2))/100\n",
        "results = []\n",
        "shapes = []\n",
        "for i in range(len(params)):\n",
        "\n",
        "  pca = PCA(n_components=params[i], svd_solver = 'full')\n",
        "  pca.fit(X_train_flat)\n",
        "  X_train_flat_pca = pca.transform(X_train_flat)\n",
        "  X_valid_flat_pca = pca.transform(X_valid_flat)\n",
        "  log_reg = LogisticRegression(multi_class=\"ovr\", solver=\"lbfgs\", max_iter=5000, random_state=42)\n",
        "  log_reg.fit(X_train_flat_pca[:], y_train[:])\n",
        "  result = log_reg.score(X_valid_flat_pca, y_valid)\n",
        "  shape = X_train_flat_pca.shape\n",
        "  results.append(result )\n",
        "  shapes.append(shapes)\n",
        "  print(i, params[i], result, shape )\n",
        "\n",
        "plt.plot(results, 'bo-')\n"
      ]
    },
    {
      "cell_type": "code",
      "execution_count": 9,
      "metadata": {
        "id": "PYv3MCDYtd47"
      },
      "outputs": [],
      "source": []
    },
    {
      "cell_type": "code",
      "source": [],
      "metadata": {
        "id": "CrGs_Y3e9ZOT"
      },
      "execution_count": 9,
      "outputs": []
    },
    {
      "cell_type": "markdown",
      "source": [
        "Want to reduce dimensions but not sacrifice accuracy by a lot. Based on this, chose parameter n_components=0.83"
      ],
      "metadata": {
        "id": "ten_vqvrusy9"
      }
    },
    {
      "cell_type": "code",
      "execution_count": 10,
      "metadata": {
        "colab": {
          "base_uri": "https://localhost:8080/"
        },
        "id": "SCHHr4hfteBH",
        "outputId": "f4c65ec2-3cfd-438b-9fdc-7c67cbb5b6b8"
      },
      "outputs": [
        {
          "output_type": "execute_result",
          "data": {
            "text/plain": [
              "0.4224844968993799"
            ]
          },
          "metadata": {},
          "execution_count": 10
        }
      ],
      "source": [
        "#@title Base Model\n",
        "\n",
        "\n",
        "pca = PCA(n_components=0.83, svd_solver = 'full')\n",
        "pca.fit(X_train_flat)\n",
        "X_train_flat_pca = pca.transform(X_train_flat)\n",
        "X_valid_flat_pca = pca.transform(X_valid_flat)\n",
        "X_test_flat_pca = pca.transform(X_test_flat)\n",
        "log_reg = LogisticRegression(multi_class=\"ovr\", solver=\"lbfgs\", max_iter=5000, random_state=42)\n",
        "log_reg.fit(X_train_flat_pca[:], y_train[:])\n",
        "log_reg.score(X_valid_flat_pca, y_valid)"
      ]
    },
    {
      "cell_type": "code",
      "source": [],
      "metadata": {
        "id": "qV7Nw23JuvMI"
      },
      "execution_count": 10,
      "outputs": []
    },
    {
      "cell_type": "code",
      "execution_count": 11,
      "metadata": {
        "colab": {
          "base_uri": "https://localhost:8080/"
        },
        "id": "k53KqWpvteG5",
        "outputId": "2e51e761-9176-41ca-db73-1af03ccad8ae"
      },
      "outputs": [
        {
          "output_type": "execute_result",
          "data": {
            "text/plain": [
              "0.2504500900180036"
            ]
          },
          "metadata": {},
          "execution_count": 11
        }
      ],
      "source": [
        "#@title took 50 points at random and did logistic regression on those and looked at the accuracy of the resulting model\n",
        "\n",
        "rep_idx = np.random.randint(0,55000,50)\n",
        "X_representative_digits_pca = X_train_flat_pca[rep_idx]\n",
        "y_representative_digits = y_train[rep_idx]\n",
        "\n",
        "log_reg = LogisticRegression(multi_class=\"ovr\", solver=\"lbfgs\", max_iter=5000, random_state=42)\n",
        "log_reg.fit(X_representative_digits_pca, y_representative_digits)\n",
        "log_reg.score(X_valid_flat_pca, y_valid)"
      ]
    },
    {
      "cell_type": "code",
      "execution_count": 12,
      "metadata": {
        "colab": {
          "base_uri": "https://localhost:8080/"
        },
        "id": "PPwGxv-ZteMl",
        "outputId": "9976b5c1-6663-41da-aeb4-b9355a8c0884"
      },
      "outputs": [
        {
          "output_type": "execute_result",
          "data": {
            "text/plain": [
              "0.20624124824964993"
            ]
          },
          "metadata": {},
          "execution_count": 12
        }
      ],
      "source": [
        "#@title took 100 points using kmeans clustering and did logistic regression on those and looked at the accuracy of the resulting model\n",
        "\n",
        "k = 100\n",
        "kmeans = KMeans(n_clusters=k, random_state=42, n_init = 10)\n",
        "X_digits_dist = kmeans.fit_transform(X_train_flat_pca)\n",
        "representative_digit_idx = np.argmin(X_digits_dist, axis=0)\n",
        "\n",
        "X_representative_digits_pca = X_train_flat_pca[representative_digit_idx]\n",
        "y_representative_digits = y_train[representative_digit_idx]\n",
        "\n",
        "log_reg = LogisticRegression(multi_class=\"ovr\", solver=\"lbfgs\", max_iter=5000, random_state=42)\n",
        "log_reg.fit(X_representative_digits_pca, y_representative_digits)\n",
        "log_reg.score(X_valid_flat_pca, y_valid)"
      ]
    },
    {
      "cell_type": "markdown",
      "metadata": {
        "id": "ZN1Rsbr1tqV5"
      },
      "source": [
        "did parameter tuning to find the best value of k(number of clusters) in the KMeans function. The values of k considered are approximatly 1%, 2%, 3% and 3.5% of the data."
      ]
    },
    {
      "cell_type": "code",
      "execution_count": 13,
      "metadata": {
        "colab": {
          "base_uri": "https://localhost:8080/",
          "height": 485
        },
        "id": "FvPOmO9gteRO",
        "outputId": "a3312dd8-b456-4a5f-9cf8-6d7f82ee6631"
      },
      "outputs": [
        {
          "output_type": "stream",
          "name": "stdout",
          "text": [
            "50 0.15603120624124825---100 0.20624124824964993---200 0.2578515703140628---250 0.2684536907381476---350 0.27825565113022604---400 0.3052610522104421---450 0.3082616523304661---500 0.33366673334666935---1000 0.3716743348669734---1500 0.38667733546709343---2000 0.39907981596319264---2500 0.397879575915183---3000 0.38767753550710143---"
          ]
        },
        {
          "output_type": "execute_result",
          "data": {
            "text/plain": [
              "[<matplotlib.lines.Line2D at 0x7f679fdf9e80>]"
            ]
          },
          "metadata": {},
          "execution_count": 13
        },
        {
          "output_type": "display_data",
          "data": {
            "text/plain": [
              "<Figure size 640x480 with 1 Axes>"
            ],
            "image/png": "[encoded data removed]"
          },
          "metadata": {}
        }
      ],
      "source": [
        "params = [ 50, 100, 200, 250, 350, 400, 450, 500, 1000, 1500, 2000, 2500, 3000 ]\n",
        "results = []\n",
        "for i in range(len(params)):\n",
        "  k = params[i]\n",
        "\n",
        "  kmeans = KMeans(n_clusters=k, random_state=42, n_init = 10)\n",
        "  X_digits_dist = kmeans.fit_transform(X_train_flat_pca)\n",
        "  representative_digit_idx = np.argmin(X_digits_dist, axis=0)\n",
        "\n",
        "  X_representative_digits_pca = X_train_flat_pca[representative_digit_idx]\n",
        "  y_representative_digits = y_train[representative_digit_idx]\n",
        "\n",
        "  log_reg = LogisticRegression(multi_class=\"ovr\", solver=\"lbfgs\", max_iter=5000, random_state=42)\n",
        "  log_reg.fit(X_representative_digits_pca, y_representative_digits)\n",
        "  results.append(log_reg.score(X_valid_flat_pca, y_valid))\n",
        "  print(k, results[i], end = '---')\n",
        "\n",
        "plt.plot(results, 'bo-')\n",
        "\n"
      ]
    },
    {
      "cell_type": "code",
      "source": [
        "X_representative_digits_pca.shape"
      ],
      "metadata": {
        "colab": {
          "base_uri": "https://localhost:8080/"
        },
        "id": "TuWxpu9MxMkj",
        "outputId": "f1df02be-7a0f-422c-9e23-cfe62b578c3e"
      },
      "execution_count": 14,
      "outputs": [
        {
          "output_type": "execute_result",
          "data": {
            "text/plain": [
              "(3000, 74)"
            ]
          },
          "metadata": {},
          "execution_count": 14
        }
      ]
    },
    {
      "cell_type": "markdown",
      "metadata": {
        "id": "O28eXRreYqH4"
      },
      "source": [
        "chose k=2000 clusters after doing parameter tuning. Used the 1 point each closest to each cluster. Used the resulting 1500 points to train the logistic regression model.  "
      ]
    },
    {
      "cell_type": "code",
      "execution_count": 15,
      "metadata": {
        "colab": {
          "base_uri": "https://localhost:8080/"
        },
        "id": "ZPSh7ousteWr",
        "outputId": "46b46467-e746-4d66-e4a0-39d61f1f0b72"
      },
      "outputs": [
        {
          "output_type": "execute_result",
          "data": {
            "text/plain": [
              "0.38497652582159625"
            ]
          },
          "metadata": {},
          "execution_count": 15
        }
      ],
      "source": [
        "k = 2000\n",
        "kmeans = KMeans(n_clusters=k, random_state=42, n_init = 10)\n",
        "X_digits_dist = kmeans.fit_transform(X_train_flat_pca)\n",
        "representative_digit_idx = np.argmin(X_digits_dist, axis=0)\n",
        "\n",
        "X_representative_digits_pca = X_train_flat_pca[representative_digit_idx]\n",
        "y_representative_digits = y_train[representative_digit_idx]\n",
        "\n",
        "log_reg = LogisticRegression(multi_class=\"ovr\", solver=\"lbfgs\", max_iter=5000, random_state=42)\n",
        "log_reg.fit(X_representative_digits_pca, y_representative_digits)\n",
        "log_reg.score(X_test_flat_pca, y_test)"
      ]
    },
    {
      "cell_type": "markdown",
      "metadata": {
        "id": "s0g5KoMoY5gV"
      },
      "source": [
        "Gave ALL points in a cluster the label of the point closest to the centroid of that cluster. Then used the propagated y values to train a logistic regression."
      ]
    },
    {
      "cell_type": "code",
      "execution_count": 16,
      "metadata": {
        "colab": {
          "base_uri": "https://localhost:8080/"
        },
        "id": "qhtAqS2Utebm",
        "outputId": "a2b00fe7-bf5f-461d-978b-034df78381ff"
      },
      "outputs": [
        {
          "output_type": "execute_result",
          "data": {
            "text/plain": [
              "0.3484741784037559"
            ]
          },
          "metadata": {},
          "execution_count": 16
        }
      ],
      "source": [
        "y_train_propagated = np.empty(len(X_train_flat_pca), dtype=np.int32)\n",
        "for i in range(k):\n",
        "    y_train_propagated[kmeans.labels_==i] = y_representative_digits[i]\n",
        "\n",
        "log_reg = LogisticRegression(multi_class=\"ovr\", solver=\"lbfgs\", max_iter=5000, random_state=42)\n",
        "log_reg.fit(X_train_flat_pca, y_train_propagated)\n",
        "log_reg.score(X_test_flat_pca, y_test)"
      ]
    },
    {
      "cell_type": "code",
      "execution_count": 16,
      "metadata": {
        "id": "6ogx-7ZYteg9"
      },
      "outputs": [],
      "source": []
    },
    {
      "cell_type": "markdown",
      "metadata": {
        "id": "SQpvIgsBY-FT"
      },
      "source": [
        "tried to propagate the y labels only to percentile% of the points in each cluster(chosen by their distance from centroid of cluster, less distance more preferred). Then used the points that have propagated labels to train a logistic regression.\n",
        "tried different values of percentile."
      ]
    },
    {
      "cell_type": "code",
      "execution_count": 17,
      "metadata": {
        "colab": {
          "base_uri": "https://localhost:8080/",
          "height": 485
        },
        "id": "F5qgzeNxtemR",
        "outputId": "5386f333-d69c-4429-9ebd-fb75018a6652"
      },
      "outputs": [
        {
          "output_type": "stream",
          "name": "stdout",
          "text": [
            "2 0.37727545509101823----5 0.37247449489897977----10 0.3760752150430086----20 0.3716743348669734----40 0.3670734146829366----60 0.3640728145629126----90 0.35647129425885177----"
          ]
        },
        {
          "output_type": "execute_result",
          "data": {
            "text/plain": [
              "[<matplotlib.lines.Line2D at 0x7f679f88b2b0>]"
            ]
          },
          "metadata": {},
          "execution_count": 17
        },
        {
          "output_type": "display_data",
          "data": {
            "text/plain": [
              "<Figure size 640x480 with 1 Axes>"
            ],
            "image/png": "[encoded data removed]"
          },
          "metadata": {}
        }
      ],
      "source": [
        "percentiles = [2,5,10,20,40,60, 90]\n",
        "results1 = []\n",
        "for i in range(len(percentiles)):\n",
        "  percentile = percentiles[i]\n",
        "  X_cluster_dist = X_digits_dist[:,0]\n",
        "  n = len(X_cluster_dist)\n",
        "  for i in range(n):\n",
        "    X_cluster_dist[i] = X_digits_dist[i, kmeans.labels_[i]]\n",
        "\n",
        "\n",
        "\n",
        "  for i in range(k):\n",
        "      in_cluster = (kmeans.labels_ == i)\n",
        "      cluster_dist = X_cluster_dist[in_cluster]\n",
        "      cutoff_distance = np.percentile(cluster_dist, percentile)\n",
        "      above_cutoff = (X_cluster_dist > cutoff_distance)\n",
        "      X_cluster_dist[in_cluster & above_cutoff] = -1\n",
        "\n",
        "  partially_propagated = (X_cluster_dist != -1)\n",
        "  X_train_flat_pca_partially_propagated = X_train_flat_pca[partially_propagated]\n",
        "  y_train_partially_propagated = y_train_propagated[partially_propagated]\n",
        "\n",
        "  log_reg = LogisticRegression(multi_class=\"ovr\", solver=\"lbfgs\", max_iter=5000, random_state=42)\n",
        "  log_reg.fit(X_train_flat_pca_partially_propagated, y_train_partially_propagated)\n",
        "  result = log_reg.score(X_valid_flat_pca, y_valid)\n",
        "  results1.append(result)\n",
        "  print(percentile, result, end = '----')\n",
        "\n",
        "plt.plot(results1, 'bo-')\n"
      ]
    },
    {
      "cell_type": "code",
      "execution_count": null,
      "metadata": {
        "id": "T1bhGpX3teq_"
      },
      "outputs": [],
      "source": []
    },
    {
      "cell_type": "markdown",
      "metadata": {
        "id": "slGldy5RZHeT"
      },
      "source": [
        "chose percentile=30 by parameter tuning in previous code block."
      ]
    },
    {
      "cell_type": "code",
      "execution_count": 19,
      "metadata": {
        "colab": {
          "base_uri": "https://localhost:8080/"
        },
        "id": "H_awxovQtex0",
        "outputId": "1bbb8e31-8fba-4f75-ef72-8b7ea68dac7a"
      },
      "outputs": [
        {
          "output_type": "execute_result",
          "data": {
            "text/plain": [
              "0.36807511737089205"
            ]
          },
          "metadata": {},
          "execution_count": 19
        }
      ],
      "source": [
        "percentile = 1.5\n",
        "X_cluster_dist = X_digits_dist[:,0]\n",
        "n = len(X_cluster_dist)\n",
        "for i in range(n):\n",
        "  X_cluster_dist[i] = X_digits_dist[i, kmeans.labels_[i]]\n",
        "\n",
        "\n",
        "\n",
        "for i in range(k):\n",
        "    in_cluster = (kmeans.labels_ == i)\n",
        "    cluster_dist = X_cluster_dist[in_cluster]\n",
        "    cutoff_distance = np.percentile(cluster_dist, percentile)\n",
        "    above_cutoff = (X_cluster_dist > cutoff_distance)\n",
        "    X_cluster_dist[in_cluster & above_cutoff] = -1\n",
        "\n",
        "partially_propagated = (X_cluster_dist != -1)\n",
        "X_train_flat_pca_partially_propagated = X_train_flat_pca[partially_propagated]\n",
        "y_train_partially_propagated = y_train_propagated[partially_propagated]\n",
        "\n",
        "log_reg = LogisticRegression(multi_class=\"ovr\", solver=\"lbfgs\", max_iter=5000, random_state=42)\n",
        "log_reg.fit(X_train_flat_pca_partially_propagated, y_train_partially_propagated)\n",
        "result = log_reg.score(X_test_flat_pca, y_test)\n",
        "result"
      ]
    },
    {
      "cell_type": "code",
      "execution_count": null,
      "metadata": {
        "id": "gamsc_B3te2Q"
      },
      "outputs": [],
      "source": []
    },
    {
      "cell_type": "code",
      "execution_count": 18,
      "metadata": {
        "id": "F-ennchwte7r"
      },
      "outputs": [],
      "source": []
    },
    {
      "cell_type": "code",
      "execution_count": 18,
      "metadata": {
        "id": "IFHK1ApEtfCt"
      },
      "outputs": [],
      "source": []
    },
    {
      "cell_type": "code",
      "execution_count": 18,
      "metadata": {
        "id": "4AD9FizWtfG4"
      },
      "outputs": [],
      "source": []
    },
    {
      "cell_type": "code",
      "execution_count": 18,
      "metadata": {
        "id": "URT-BiK0tfMv"
      },
      "outputs": [],
      "source": []
    },
    {
      "cell_type": "code",
      "execution_count": 18,
      "metadata": {
        "id": "CaRNnxb4tfSO"
      },
      "outputs": [],
      "source": []
    },
    {
      "cell_type": "code",
      "execution_count": 18,
      "metadata": {
        "id": "5NF5mIgetfXQ"
      },
      "outputs": [],
      "source": []
    }
  ],
  "metadata": {
    "colab": {
      "provenance": [],
      "authorship_tag": "ABX9TyOpi5eNHL6ds5mvp0HLqBSq",
      "include_colab_link": true
    },
    "gpuClass": "standard",
    "kernelspec": {
      "display_name": "Python 3",
      "name": "python3"
    },
    "language_info": {
      "name": "python"
    }
  },
  "nbformat": 4,
  "nbformat_minor": 0
}