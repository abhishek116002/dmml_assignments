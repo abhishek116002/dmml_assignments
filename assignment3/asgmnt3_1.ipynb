{
  "cells": [
    {
      "cell_type": "markdown",
      "metadata": {
        "id": "view-in-github",
        "colab_type": "text"
      },
      "source": [
        "<a href=\"https://colab.research.google.com/github/abhishek116002/dmml_assignments/blob/main/assignment3/asgmnt3_1.ipynb\" target=\"_parent\"><img src=\"https://colab.research.google.com/assets/colab-badge.svg\" alt=\"Open In Colab\"/></a>"
      ]
    },
    {
      "cell_type": "code",
      "execution_count": null,
      "metadata": {
        "id": "vFQgNgrN9t8m"
      },
      "outputs": [],
      "source": [
        "import sys\n",
        "from packaging import version\n",
        "import sklearn\n",
        "import tensorflow as tf\n",
        "from sklearn.cluster import KMeans\n",
        "from sklearn.decomposition import PCA\n",
        "from sklearn.linear_model import LogisticRegression\n",
        "import numpy as np\n",
        "import matplotlib.pyplot as plt\n",
        "from sklearn.metrics import accuracy_score\n",
        "\n",
        "assert sys.version_info >= (3, 7)\n",
        "assert version.parse(sklearn.__version__) >= version.parse(\"1.0.1\")\n",
        "assert version.parse(tf.__version__) >= version.parse(\"2.8.0\")"
      ]
    },
    {
      "cell_type": "code",
      "execution_count": null,
      "metadata": {
        "id": "nNGe64pi-c_j"
      },
      "outputs": [],
      "source": [
        "plt.rc('font', size=14)\n",
        "plt.rc('axes', labelsize=14, titlesize=14)\n",
        "plt.rc('legend', fontsize=14)\n",
        "plt.rc('xtick', labelsize=10)\n",
        "plt.rc('ytick', labelsize=10)"
      ]
    },
    {
      "cell_type": "code",
      "execution_count": null,
      "metadata": {
        "id": "tCdRuVZ9-d2o"
      },
      "outputs": [],
      "source": [
        "fashion_mnist = tf.keras.datasets.fashion_mnist.load_data()\n",
        "(X_train_full, y_train_full), (X_test, y_test) = fashion_mnist\n",
        "X_train, y_train = X_train_full[:-5000], y_train_full[:-5000]\n",
        "X_valid, y_valid = X_train_full[-5000:], y_train_full[-5000:]"
      ]
    },
    {
      "cell_type": "code",
      "execution_count": null,
      "metadata": {
        "colab": {
          "base_uri": "https://localhost:8080/"
        },
        "id": "Dvu4Cfpm-eb-",
        "outputId": "5406fc76-3842-489a-ab2e-20a03ae2e57e"
      },
      "outputs": [
        {
          "data": {
            "text/plain": [
              "((55000, 28, 28), (55000,))"
            ]
          },
          "execution_count": 4,
          "metadata": {},
          "output_type": "execute_result"
        }
      ],
      "source": [
        "X_train.shape, y_train.shape"
      ]
    },
    {
      "cell_type": "code",
      "execution_count": null,
      "metadata": {
        "id": "cSkduc0P-e8X"
      },
      "outputs": [],
      "source": [
        "X_train, X_valid, X_test = X_train / 255., X_valid / 255., X_test / 255."
      ]
    },
    {
      "cell_type": "code",
      "execution_count": null,
      "metadata": {
        "id": "THEVCbfx-fMr"
      },
      "outputs": [],
      "source": []
    },
    {
      "cell_type": "code",
      "execution_count": null,
      "metadata": {
        "colab": {
          "base_uri": "https://localhost:8080/"
        },
        "id": "Za-plO-u-fgK",
        "outputId": "926a2554-04f5-4661-8bbb-9bc5fa1d0163"
      },
      "outputs": [
        {
          "name": "stdout",
          "output_type": "stream",
          "text": [
            "Model: \"sequential\"\n",
            "_________________________________________________________________\n",
            " Layer (type)                Output Shape              Param #   \n",
            "=================================================================\n",
            " flatten (Flatten)           (None, 784)               0         \n",
            "                                                                 \n",
            "=================================================================\n",
            "Total params: 0\n",
            "Trainable params: 0\n",
            "Non-trainable params: 0\n",
            "_________________________________________________________________\n"
          ]
        }
      ],
      "source": [
        "flat_model = tf.keras.Sequential([\n",
        "    tf.keras.layers.Flatten(input_shape=[28, 28])\n",
        "])\n",
        "flat_model.summary()"
      ]
    },
    {
      "cell_type": "code",
      "execution_count": null,
      "metadata": {
        "colab": {
          "base_uri": "https://localhost:8080/"
        },
        "id": "jr0_i-Lm-fvK",
        "outputId": "c49c5a0e-25e4-4370-9e7a-1ef8bc8ec5b2"
      },
      "outputs": [
        {
          "name": "stdout",
          "output_type": "stream",
          "text": [
            "1719/1719 [==============================] - 5s 2ms/step\n",
            "313/313 [==============================] - 1s 2ms/step\n",
            "157/157 [==============================] - 0s 2ms/step\n"
          ]
        }
      ],
      "source": [
        "X_train_flat = flat_model.predict(X_train)\n",
        "X_test_flat = flat_model.predict(X_test)\n",
        "X_valid_flat = flat_model.predict(X_valid)"
      ]
    },
    {
      "cell_type": "code",
      "execution_count": null,
      "metadata": {
        "colab": {
          "base_uri": "https://localhost:8080/"
        },
        "id": "H6ZsvkPt-f90",
        "outputId": "9b685334-6bad-49f6-9f7c-af7f7cdf6e0e"
      },
      "outputs": [
        {
          "data": {
            "text/plain": [
              "((55000, 784), (10000, 784), (5000, 784))"
            ]
          },
          "execution_count": 8,
          "metadata": {},
          "output_type": "execute_result"
        }
      ],
      "source": [
        "X_train_flat.shape, X_test_flat.shape, X_valid_flat.shape,"
      ]
    },
    {
      "cell_type": "code",
      "execution_count": null,
      "metadata": {
        "id": "FZ4gA7RNdjUf"
      },
      "outputs": [],
      "source": []
    },
    {
      "cell_type": "code",
      "execution_count": null,
      "metadata": {
        "id": "HwAHJYe3djeb"
      },
      "outputs": [],
      "source": [
        "params = [0.99, 0.98, 0.97, 0.96, 0.95, 0.94, 0.93, 0.92, 0.91, 0.90]\n",
        "results = []\n",
        "shapes = []\n",
        "for i in range(len(params)):\n",
        "\n",
        "  pca = PCA(n_components=params[i], svd_solver = 'full')\n",
        "  pca.fit(X_train_flat)\n",
        "  X_train_flat_pca = pca.transform(X_train_flat)\n",
        "  X_valid_flat_pca = pca.transform(X_valid_flat)\n",
        "  log_reg = LogisticRegression(multi_class=\"ovr\", solver=\"lbfgs\", max_iter=5000, random_state=42)\n",
        "  log_reg.fit(X_train_flat_pca[:], y_train[:])\n",
        "  result = log_reg.score(X_valid_flat_pca, y_valid)\n",
        "  results.append(result )\n",
        "  shapes.append(X_train_flat_pca.shape)\n",
        "\n"
      ]
    },
    {
      "cell_type": "code",
      "execution_count": null,
      "metadata": {
        "colab": {
          "base_uri": "https://localhost:8080/",
          "height": 452
        },
        "id": "YguNyINLxDHE",
        "outputId": "05ef7b4d-c1f5-4d85-f173-17be0b0f0c8f"
      },
      "outputs": [
        {
          "data": {
            "text/plain": [
              "[<matplotlib.lines.Line2D at 0x7ff0a1cc7e80>]"
            ]
          },
          "execution_count": 10,
          "metadata": {},
          "output_type": "execute_result"
        },
        {
          "data": {
            "image/png": "[encoded data removed]",
            "text/plain": [
              "<Figure size 640x480 with 1 Axes>"
            ]
          },
          "metadata": {},
          "output_type": "display_data"
        }
      ],
      "source": [
        "plt.plot(results, 'bo-')"
      ]
    },
    {
      "cell_type": "code",
      "execution_count": null,
      "metadata": {
        "colab": {
          "base_uri": "https://localhost:8080/"
        },
        "id": "Anc5Z_oxdjl3",
        "outputId": "b9b3e1a8-654a-4983-9883-2f2405a54d3a"
      },
      "outputs": [
        {
          "data": {
            "text/plain": [
              "([0.8546,\n",
              "  0.8574,\n",
              "  0.856,\n",
              "  0.8558,\n",
              "  0.8552,\n",
              "  0.8564,\n",
              "  0.855,\n",
              "  0.8498,\n",
              "  0.8452,\n",
              "  0.8458],\n",
              " [(55000, 459),\n",
              "  (55000, 349),\n",
              "  (55000, 277),\n",
              "  (55000, 226),\n",
              "  (55000, 187),\n",
              "  (55000, 157),\n",
              "  (55000, 133),\n",
              "  (55000, 113),\n",
              "  (55000, 97),\n",
              "  (55000, 84)])"
            ]
          },
          "execution_count": 11,
          "metadata": {},
          "output_type": "execute_result"
        }
      ],
      "source": [
        "#@title Will choose parameter n_components=0.94 as it reduces the number of features to 157, which is manageable!\n",
        "results, shapes"
      ]
    },
    {
      "cell_type": "code",
      "execution_count": null,
      "metadata": {
        "id": "Of0UgP0C4E_4"
      },
      "outputs": [],
      "source": []
    },
    {
      "cell_type": "code",
      "execution_count": null,
      "metadata": {
        "colab": {
          "base_uri": "https://localhost:8080/"
        },
        "id": "p-93mN7OdjtE",
        "outputId": "4f894f1f-4ac5-4fe2-fb4e-35a8fb46cfd7"
      },
      "outputs": [
        {
          "data": {
            "text/plain": [
              "0.8564"
            ]
          },
          "execution_count": 12,
          "metadata": {},
          "output_type": "execute_result"
        }
      ],
      "source": [
        "#@title Base Model\n",
        "\n",
        "\n",
        "pca = PCA(n_components=0.94, svd_solver = 'full')\n",
        "pca.fit(X_train_flat)\n",
        "X_train_flat_pca = pca.transform(X_train_flat)\n",
        "X_valid_flat_pca = pca.transform(X_valid_flat)\n",
        "X_test_flat_pca = pca.transform(X_test_flat)\n",
        "log_reg = LogisticRegression(multi_class=\"ovr\", solver=\"lbfgs\", max_iter=5000, random_state=42)\n",
        "log_reg.fit(X_train_flat_pca[:], y_train[:])\n",
        "log_reg.score(X_valid_flat_pca, y_valid)"
      ]
    },
    {
      "cell_type": "code",
      "execution_count": null,
      "metadata": {
        "id": "cHl4MNWMdj0R"
      },
      "outputs": [],
      "source": []
    },
    {
      "cell_type": "code",
      "execution_count": null,
      "metadata": {
        "id": "K0GZTvn5dj6T"
      },
      "outputs": [],
      "source": []
    },
    {
      "cell_type": "code",
      "execution_count": null,
      "metadata": {
        "colab": {
          "base_uri": "https://localhost:8080/"
        },
        "id": "pWkaELMB7Mbb",
        "outputId": "7715f960-300b-473b-b44a-4f546fac3fd5"
      },
      "outputs": [
        {
          "data": {
            "text/plain": [
              "0.7"
            ]
          },
          "execution_count": 13,
          "metadata": {},
          "output_type": "execute_result"
        }
      ],
      "source": [
        "#@title took 50 points at random and did logistic regression on those and looked at the accuracy of the resulting model\n",
        "\n",
        "rep_idx = np.random.randint(0,55000,50)\n",
        "X_representative_digits_pca = X_train_flat_pca[rep_idx]\n",
        "y_representative_digits = y_train[rep_idx]\n",
        "\n",
        "log_reg = LogisticRegression(multi_class=\"ovr\", solver=\"lbfgs\", max_iter=5000, random_state=42)\n",
        "log_reg.fit(X_representative_digits_pca, y_representative_digits)\n",
        "log_reg.score(X_valid_flat_pca, y_valid)"
      ]
    },
    {
      "cell_type": "code",
      "execution_count": null,
      "metadata": {
        "id": "_ToElOPu7MiB"
      },
      "outputs": [],
      "source": []
    },
    {
      "cell_type": "code",
      "execution_count": null,
      "metadata": {
        "id": "ROZfL2IM7MoM"
      },
      "outputs": [],
      "source": []
    },
    {
      "cell_type": "code",
      "execution_count": null,
      "metadata": {
        "colab": {
          "base_uri": "https://localhost:8080/"
        },
        "id": "9gi-By1RdkBf",
        "outputId": "67627ecc-9d91-4558-8fba-193bb96a27ac"
      },
      "outputs": [
        {
          "data": {
            "text/plain": [
              "0.7428"
            ]
          },
          "execution_count": 14,
          "metadata": {},
          "output_type": "execute_result"
        }
      ],
      "source": [
        "#@title took 100 points using kmeans clustering and did logistic regression on those and looked at the accuracy of the resulting model\n",
        "\n",
        "k = 100\n",
        "kmeans = KMeans(n_clusters=k, random_state=42, n_init = 10)\n",
        "X_digits_dist = kmeans.fit_transform(X_train_flat_pca)\n",
        "representative_digit_idx = np.argmin(X_digits_dist, axis=0)\n",
        "\n",
        "X_representative_digits_pca = X_train_flat_pca[representative_digit_idx]\n",
        "y_representative_digits = y_train[representative_digit_idx]\n",
        "\n",
        "log_reg = LogisticRegression(multi_class=\"ovr\", solver=\"lbfgs\", max_iter=5000, random_state=42)\n",
        "log_reg.fit(X_representative_digits_pca, y_representative_digits)\n",
        "log_reg.score(X_valid_flat_pca, y_valid)"
      ]
    },
    {
      "cell_type": "code",
      "execution_count": null,
      "metadata": {
        "id": "-5p7catJdkHl"
      },
      "outputs": [],
      "source": []
    },
    {
      "cell_type": "markdown",
      "metadata": {
        "id": "jWrffKUqO0KT"
      },
      "source": [
        "did parameter tuning to find the best value of k(number of clusters) in the KMeans function. The values of k considered are approximatly 1%, 2%, 3% and 3.5% of the data."
      ]
    },
    {
      "cell_type": "code",
      "execution_count": null,
      "metadata": {
        "colab": {
          "base_uri": "https://localhost:8080/",
          "height": 447
        },
        "id": "bZfN2woPCqwa",
        "outputId": "5299ccf7-bf0c-4b42-9b7d-23d0faf9d2e7"
      },
      "outputs": [
        {
          "name": "stdout",
          "output_type": "stream",
          "text": [
            "500 0.7822---1000 0.8062---1500 0.8164---2000 0.8128---"
          ]
        },
        {
          "data": {
            "text/plain": [
              "[<matplotlib.lines.Line2D at 0x7ff0a2d3ba30>]"
            ]
          },
          "execution_count": 15,
          "metadata": {},
          "output_type": "execute_result"
        },
        {
          "data": {
            "image/png": "[encoded data removed]",
            "text/plain": [
              "<Figure size 640x480 with 1 Axes>"
            ]
          },
          "metadata": {},
          "output_type": "display_data"
        }
      ],
      "source": [
        "\n",
        "\n",
        "params = [500, 1000, 1500, 2000 ]\n",
        "results = []\n",
        "for i in range(len(params)):\n",
        "  k = params[i]\n",
        "\n",
        "  kmeans = KMeans(n_clusters=k, random_state=42, n_init = 10)\n",
        "  X_digits_dist = kmeans.fit_transform(X_train_flat_pca)\n",
        "  representative_digit_idx = np.argmin(X_digits_dist, axis=0)\n",
        "\n",
        "  X_representative_digits_pca = X_train_flat_pca[representative_digit_idx]\n",
        "  y_representative_digits = y_train[representative_digit_idx]\n",
        "\n",
        "  log_reg = LogisticRegression(multi_class=\"ovr\", solver=\"lbfgs\", max_iter=5000, random_state=42)\n",
        "  log_reg.fit(X_representative_digits_pca, y_representative_digits)\n",
        "  results.append(log_reg.score(X_valid_flat_pca, y_valid))\n",
        "  print(k, results[i], end = '---')\n",
        "\n",
        "plt.plot(results, 'bo-')\n"
      ]
    },
    {
      "cell_type": "code",
      "execution_count": null,
      "metadata": {
        "id": "59t9UIeuCreq"
      },
      "outputs": [],
      "source": []
    },
    {
      "cell_type": "code",
      "execution_count": null,
      "metadata": {
        "id": "vxcEee2Z0xS4"
      },
      "outputs": [],
      "source": []
    },
    {
      "cell_type": "code",
      "execution_count": null,
      "metadata": {
        "id": "cEQ8PuOW0xYy"
      },
      "outputs": [],
      "source": []
    },
    {
      "cell_type": "markdown",
      "metadata": {
        "id": "4YqfRnnd1yo5"
      },
      "source": [
        "chose k=1500 clusters after doing parameter tuning. Used the 1 point each closest to each cluster. Used the resulting 1500 points to train the logistic regression model.  "
      ]
    },
    {
      "cell_type": "code",
      "execution_count": null,
      "metadata": {
        "colab": {
          "background_save": true
        },
        "id": "pSkmMbEVCrrE",
        "outputId": "6d938ba5-7d7b-4fd4-8b15-47f5dc754176"
      },
      "outputs": [
        {
          "data": {
            "text/plain": [
              "0.8046"
            ]
          },
          "execution_count": 16,
          "metadata": {},
          "output_type": "execute_result"
        }
      ],
      "source": [
        "k = 1500\n",
        "kmeans = KMeans(n_clusters=k, random_state=42, n_init = 10)\n",
        "X_digits_dist = kmeans.fit_transform(X_train_flat_pca)\n",
        "representative_digit_idx = np.argmin(X_digits_dist, axis=0)\n",
        "\n",
        "X_representative_digits_pca = X_train_flat_pca[representative_digit_idx]\n",
        "y_representative_digits = y_train[representative_digit_idx]\n",
        "\n",
        "log_reg = LogisticRegression(multi_class=\"ovr\", solver=\"lbfgs\", max_iter=5000, random_state=42)\n",
        "log_reg.fit(X_representative_digits_pca, y_representative_digits)\n",
        "log_reg.score(X_test_flat_pca, y_test)"
      ]
    },
    {
      "cell_type": "markdown",
      "metadata": {
        "id": "CTRnZLJl8PUf"
      },
      "source": [
        "Gave ALL points in a cluster the label of the point closest to the centroid of that cluster. Then used the propagated y values to train a logistic regression."
      ]
    },
    {
      "cell_type": "code",
      "execution_count": null,
      "metadata": {
        "colab": {
          "background_save": true
        },
        "id": "lcJ6G402CrwD",
        "outputId": "76021c84-6c2d-48c7-91f4-8712a41182d6"
      },
      "outputs": [
        {
          "data": {
            "text/plain": [
              "0.8101"
            ]
          },
          "execution_count": 17,
          "metadata": {},
          "output_type": "execute_result"
        }
      ],
      "source": [
        "y_train_propagated = np.empty(len(X_train_flat_pca), dtype=np.int32)\n",
        "for i in range(k):\n",
        "    y_train_propagated[kmeans.labels_==i] = y_representative_digits[i]\n",
        "\n",
        "log_reg = LogisticRegression(multi_class=\"ovr\", solver=\"lbfgs\", max_iter=5000, random_state=42)\n",
        "log_reg.fit(X_train_flat_pca, y_train_propagated)\n",
        "log_reg.score(X_test_flat_pca, y_test)"
      ]
    },
    {
      "cell_type": "markdown",
      "metadata": {
        "id": "QAfTZRNl9jIE"
      },
      "source": [
        "tried to propagate the y labels only to percentile% of the points in each cluster(chosen by their distance from centroid of cluster, less distance more preferred). Then used the points that have propagated labels to train a logistic regression.\n",
        "tried different values of percentile."
      ]
    },
    {
      "cell_type": "code",
      "execution_count": null,
      "metadata": {
        "colab": {
          "background_save": true
        },
        "id": "K8JtxjirCr11",
        "outputId": "47d617ed-3953-4999-d501-3904ccbc88f2"
      },
      "outputs": [
        {
          "name": "stdout",
          "output_type": "stream",
          "text": [
            "10 0.8102----20 0.8126----30 0.814----40 0.8164----50 0.8188----60 0.8176----70 0.8206----80 0.82----90 0.8242----100 0.8218----"
          ]
        },
        {
          "data": {
            "text/plain": [
              "[<matplotlib.lines.Line2D at 0x7ff0a2c51a00>]"
            ]
          },
          "execution_count": 18,
          "metadata": {},
          "output_type": "execute_result"
        },
        {
          "data": {
            "image/png": "[encoded data removed]",
            "text/plain": [
              "<Figure size 640x480 with 1 Axes>"
            ]
          },
          "metadata": {},
          "output_type": "display_data"
        }
      ],
      "source": [
        "percentiles = list(range(10,101,10))\n",
        "results1 = []\n",
        "for i in range(len(percentiles)):\n",
        "  percentile = percentiles[i]\n",
        "  X_cluster_dist = X_digits_dist[:,0]\n",
        "  n = len(X_cluster_dist)\n",
        "  for i in range(n):\n",
        "    X_cluster_dist[i] = X_digits_dist[i, kmeans.labels_[i]]\n",
        "\n",
        "\n",
        "\n",
        "  for i in range(k):\n",
        "      in_cluster = (kmeans.labels_ == i)\n",
        "      cluster_dist = X_cluster_dist[in_cluster]\n",
        "      cutoff_distance = np.percentile(cluster_dist, percentile)\n",
        "      above_cutoff = (X_cluster_dist > cutoff_distance)\n",
        "      X_cluster_dist[in_cluster & above_cutoff] = -1\n",
        "\n",
        "  partially_propagated = (X_cluster_dist != -1)\n",
        "  X_train_flat_pca_partially_propagated = X_train_flat_pca[partially_propagated]\n",
        "  y_train_partially_propagated = y_train_propagated[partially_propagated]\n",
        "\n",
        "  log_reg = LogisticRegression(multi_class=\"ovr\", solver=\"lbfgs\", max_iter=5000, random_state=42)\n",
        "  log_reg.fit(X_train_flat_pca_partially_propagated, y_train_partially_propagated)\n",
        "  result = log_reg.score(X_valid_flat_pca, y_valid)\n",
        "  results1.append(result)\n",
        "  print(percentile, result, end = '----')\n",
        "\n",
        "plt.plot(results1, 'bo-')\n"
      ]
    },
    {
      "cell_type": "code",
      "execution_count": null,
      "metadata": {
        "colab": {
          "background_save": true
        },
        "id": "Iy_aoZtmCr7n"
      },
      "outputs": [],
      "source": []
    },
    {
      "cell_type": "markdown",
      "metadata": {
        "id": "KRYSvg3r-M8c"
      },
      "source": [
        "chose percentile=30 by parameter tuning in previous code block."
      ]
    },
    {
      "cell_type": "code",
      "execution_count": null,
      "metadata": {
        "colab": {
          "background_save": true
        },
        "id": "1QMLsYsuCsBS",
        "outputId": "39a0fbb6-bd56-45d0-92fc-52f76e03751d"
      },
      "outputs": [
        {
          "data": {
            "text/plain": [
              "0.8064"
            ]
          },
          "execution_count": 19,
          "metadata": {},
          "output_type": "execute_result"
        }
      ],
      "source": [
        "percentile = 30\n",
        "X_cluster_dist = X_digits_dist[:,0]\n",
        "n = len(X_cluster_dist)\n",
        "for i in range(n):\n",
        "  X_cluster_dist[i] = X_digits_dist[i, kmeans.labels_[i]]\n",
        "\n",
        "\n",
        "\n",
        "for i in range(k):\n",
        "    in_cluster = (kmeans.labels_ == i)\n",
        "    cluster_dist = X_cluster_dist[in_cluster]\n",
        "    cutoff_distance = np.percentile(cluster_dist, percentile)\n",
        "    above_cutoff = (X_cluster_dist > cutoff_distance)\n",
        "    X_cluster_dist[in_cluster & above_cutoff] = -1\n",
        "\n",
        "partially_propagated = (X_cluster_dist != -1)\n",
        "X_train_flat_pca_partially_propagated = X_train_flat_pca[partially_propagated]\n",
        "y_train_partially_propagated = y_train_propagated[partially_propagated]\n",
        "\n",
        "log_reg = LogisticRegression(multi_class=\"ovr\", solver=\"lbfgs\", max_iter=5000, random_state=42)\n",
        "log_reg.fit(X_train_flat_pca_partially_propagated, y_train_partially_propagated)\n",
        "result = log_reg.score(X_test_flat_pca, y_test)\n",
        "result"
      ]
    },
    {
      "cell_type": "code",
      "execution_count": null,
      "metadata": {
        "colab": {
          "background_save": true
        },
        "id": "VzuE2faH-oz5"
      },
      "outputs": [],
      "source": []
    },
    {
      "cell_type": "code",
      "execution_count": null,
      "metadata": {
        "colab": {
          "background_save": true
        },
        "id": "bGf7t4RH-o6X"
      },
      "outputs": [],
      "source": []
    }
  ],
  "metadata": {
    "accelerator": "GPU",
    "colab": {
      "provenance": [],
      "authorship_tag": "ABX9TyPah9RBCEmbwOwrToQmmuGn",
      "include_colab_link": true
    },
    "gpuClass": "standard",
    "kernelspec": {
      "display_name": "Python 3",
      "name": "python3"
    },
    "language_info": {
      "name": "python"
    }
  },
  "nbformat": 4,
  "nbformat_minor": 0
}